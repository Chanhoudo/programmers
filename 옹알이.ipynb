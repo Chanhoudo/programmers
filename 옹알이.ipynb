{
  "nbformat": 4,
  "nbformat_minor": 0,
  "metadata": {
    "colab": {
      "provenance": []
    },
    "kernelspec": {
      "name": "python3",
      "display_name": "Python 3"
    },
    "language_info": {
      "name": "python"
    }
  },
  "cells": [
    {
      "cell_type": "code",
      "execution_count": null,
      "metadata": {
        "id": "XTMexjTvNjxR"
      },
      "outputs": [],
      "source": [
        "def solution(babbling):\n",
        "    answer = 0\n",
        "    for s in babbling:\n",
        "        i = 0\n",
        "        i += len(s) - len(s.replace('aya', ''))\n",
        "        i += len(s) - len(s.replace('ye', ''))\n",
        "        i += len(s) - len(s.replace('woo', ''))\n",
        "        i += len(s) - len(s.replace('ma', ''))\n",
        "        if len(s) == i:\n",
        "            answer += 1\n",
        "    return answer"
      ]
    }
  ]
}