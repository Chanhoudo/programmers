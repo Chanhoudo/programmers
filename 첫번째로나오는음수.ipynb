{
  "nbformat": 4,
  "nbformat_minor": 0,
  "metadata": {
    "colab": {
      "provenance": []
    },
    "kernelspec": {
      "name": "python3",
      "display_name": "Python 3"
    },
    "language_info": {
      "name": "python"
    }
  },
  "cells": [
    {
      "cell_type": "code",
      "execution_count": null,
      "metadata": {
        "id": "qHWjI5FBYohn"
      },
      "outputs": [],
      "source": [
        "def solution(num_list):\n",
        "    for i in range(len(num_list)):\n",
        "        if num_list[i] < 0:\n",
        "            return i\n",
        "    return -1"
      ]
    }
  ]
}