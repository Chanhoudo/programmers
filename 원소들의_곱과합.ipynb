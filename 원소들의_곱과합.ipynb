{
  "nbformat": 4,
  "nbformat_minor": 0,
  "metadata": {
    "colab": {
      "provenance": []
    },
    "kernelspec": {
      "name": "python3",
      "display_name": "Python 3"
    },
    "language_info": {
      "name": "python"
    }
  },
  "cells": [
    {
      "cell_type": "code",
      "execution_count": null,
      "metadata": {
        "id": "NnksytlYrfnQ"
      },
      "outputs": [],
      "source": [
        "def solution(num_list):\n",
        "    answer = 0\n",
        "    m = num_list[0]\n",
        "    a = num_list[0]\n",
        "    for i in range(1, len(num_list)):\n",
        "        m *= num_list[i]\n",
        "        a += num_list[i]\n",
        "    if a * a > m:\n",
        "        return 1\n",
        "    else:\n",
        "        return 0"
      ]
    }
  ]
}