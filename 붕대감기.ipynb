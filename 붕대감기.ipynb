{
  "nbformat": 4,
  "nbformat_minor": 0,
  "metadata": {
    "colab": {
      "provenance": []
    },
    "kernelspec": {
      "name": "python3",
      "display_name": "Python 3"
    },
    "language_info": {
      "name": "python"
    }
  },
  "cells": [
    {
      "cell_type": "code",
      "execution_count": 2,
      "metadata": {
        "colab": {
          "base_uri": "https://localhost:8080/"
        },
        "id": "Dc2FX3M7s8JU",
        "outputId": "54def339-48bb-41a0-c2a4-553d89a08e6b"
      },
      "outputs": [
        {
          "output_type": "stream",
          "name": "stdout",
          "text": [
            "5\n",
            "-1\n",
            "-1\n",
            "3\n"
          ]
        }
      ],
      "source": [
        "def solution(bandage, health, attacks):\n",
        "    maxHeal = health\n",
        "    healTime = 0\n",
        "    atcI = 0\n",
        "    for time in range(attacks[-1][0]+1):\n",
        "        if attacks[atcI][0] == time:\n",
        "            health = health - attacks[atcI][1]\n",
        "            healTime = 0\n",
        "            atcI += 1\n",
        "        else:\n",
        "            if healTime + 1 == bandage[0]:\n",
        "                health += bandage[1] + bandage[2]\n",
        "                healTime = 0\n",
        "            else:\n",
        "                healTime += 1\n",
        "                health += bandage[1]\n",
        "        if maxHeal < health:\n",
        "            health = maxHeal\n",
        "        elif health <= 0:\n",
        "            return -1\n",
        "    return health\n",
        "\n",
        "print(solution([5,1,5], 30, [[2, 10], [9, 15], [10, 5], [11, 5]]))\n",
        "print(solution([3, 2, 7], 20, [[1, 15], [5, 16], [8, 6]]))\n",
        "print(solution([4, 2, 7], 20, [[1, 15], [5, 16], [8, 6]]))\n",
        "print(solution([1, 1, 1], 5, [[1, 2], [3, 2]]))"
      ]
    }
  ]
}