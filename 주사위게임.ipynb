{
  "nbformat": 4,
  "nbformat_minor": 0,
  "metadata": {
    "colab": {
      "provenance": []
    },
    "kernelspec": {
      "name": "python3",
      "display_name": "Python 3"
    },
    "language_info": {
      "name": "python"
    }
  },
  "cells": [
    {
      "cell_type": "code",
      "execution_count": null,
      "metadata": {
        "id": "eGSaNQeMUnsj"
      },
      "outputs": [],
      "source": [
        "def solution(a, b, c):\n",
        "    answer = 0\n",
        "    if a == b and b == c:\n",
        "        answer = (a + b + c) * (a **2 + b ** 2 + c ** 2) * (a ** 3 + b ** 3 + c ** 3)\n",
        "    elif a == b or b == c or a == c:\n",
        "        answer = (a + b + c) * (a ** 2 + b ** 2 + c ** 2)\n",
        "    else:\n",
        "        answer = (a + b + c)\n",
        "    return answer\n",
        "\n",
        "# check=len(set([a,b,c]))\n",
        "#     if check==1:\n",
        "#         return a*3*(a**2)*3*(a**3)*3\n",
        "#     elif check==2:\n",
        "#         return (a+b+c)*(a**2+b**2+c**2)\n",
        "#     else:\n",
        "#         return (a+b+c)"
      ]
    }
  ]
}