{
  "nbformat": 4,
  "nbformat_minor": 0,
  "metadata": {
    "colab": {
      "provenance": []
    },
    "kernelspec": {
      "name": "python3",
      "display_name": "Python 3"
    },
    "language_info": {
      "name": "python"
    }
  },
  "cells": [
    {
      "cell_type": "code",
      "execution_count": null,
      "metadata": {
        "id": "RB6wfkmf-s37"
      },
      "outputs": [],
      "source": [
        "def solution(wallpaper):\n",
        "    lx = 9999999999999999999\n",
        "    ly = -1\n",
        "    rx = -1\n",
        "    ry = -1\n",
        "    for y in range(len(wallpaper)):\n",
        "        if \"#\" in wallpaper[y] and ly == -1:\n",
        "            ly = y\n",
        "            ry = y + 1\n",
        "        elif \"#\" in wallpaper[y]:\n",
        "            ry = y + 1\n",
        "        for x in range(len(wallpaper[y])):\n",
        "            if wallpaper[y][x] == \"#\":\n",
        "                if lx > x:\n",
        "                    lx = x\n",
        "                if rx < x + 1:\n",
        "                    rx = x + 1\n",
        "\n",
        "    return [ly, lx, ry, rx]"
      ]
    }
  ]
}