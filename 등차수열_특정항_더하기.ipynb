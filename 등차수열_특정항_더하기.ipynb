{
  "nbformat": 4,
  "nbformat_minor": 0,
  "metadata": {
    "colab": {
      "provenance": []
    },
    "kernelspec": {
      "name": "python3",
      "display_name": "Python 3"
    },
    "language_info": {
      "name": "python"
    }
  },
  "cells": [
    {
      "cell_type": "code",
      "execution_count": null,
      "metadata": {
        "id": "Npwn48keeo52"
      },
      "outputs": [],
      "source": [
        "def solution(a, d, included):\n",
        "    answer = 0\n",
        "    for b in range(len(included)):\n",
        "        s = a\n",
        "        if included[b]:\n",
        "            for i in range(b):\n",
        "                s = s + d\n",
        "            answer += s\n",
        "    return answer\n",
        "\n",
        "result1 = solution(3, 4, [true, false, false, true, true])\n",
        "result2 = solution(7, 1, [false, false, false, false, false])\n",
        "print(result1)\n",
        "print(result2)"
      ]
    }
  ]
}