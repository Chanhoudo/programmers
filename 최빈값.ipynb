{
  "nbformat": 4,
  "nbformat_minor": 0,
  "metadata": {
    "colab": {
      "provenance": []
    },
    "kernelspec": {
      "name": "python3",
      "display_name": "Python 3"
    },
    "language_info": {
      "name": "python"
    }
  },
  "cells": [
    {
      "cell_type": "code",
      "execution_count": null,
      "metadata": {
        "id": "GZ5hWZ9C-MAK"
      },
      "outputs": [],
      "source": [
        "def solution(array):\n",
        "    answer = 0\n",
        "    count_list = [0] * 1000\n",
        "\n",
        "    for i in array:\n",
        "        count_list[i] += 1\n",
        "\n",
        "    max_count = -1\n",
        "    answer = -1\n",
        "\n",
        "    for i, v in enumerate(count_list):\n",
        "        if max_count < v:\n",
        "            max_count = v\n",
        "            answer = i\n",
        "        elif max_count == v:\n",
        "            answer = -1\n",
        "\n",
        "    return answer"
      ]
    }
  ]
}