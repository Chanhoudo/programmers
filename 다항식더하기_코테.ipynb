{
  "nbformat": 4,
  "nbformat_minor": 0,
  "metadata": {
    "colab": {
      "provenance": []
    },
    "kernelspec": {
      "name": "python3",
      "display_name": "Python 3"
    },
    "language_info": {
      "name": "python"
    }
  },
  "cells": [
    {
      "cell_type": "code",
      "execution_count": null,
      "metadata": {
        "id": "C5t3GVRcKWYw"
      },
      "outputs": [],
      "source": [
        "def solution(polynomial):\n",
        "    answer = ''\n",
        "    s = polynomial.split(' ')\n",
        "    x = 0\n",
        "    num = 0\n",
        "\n",
        "    for c in s:\n",
        "        if c.isdigit():\n",
        "            num += int(c)\n",
        "        elif c[-1] == 'x':\n",
        "            if c[:-1]:\n",
        "                x += int(c[:-1])\n",
        "            else:\n",
        "                x += 1\n",
        "\n",
        "    if x > 0 and num > 0:\n",
        "        if x > 1:\n",
        "            answer = str(x) + 'x + ' + str(num)\n",
        "        else:\n",
        "            answer = 'x + ' + str(num)\n",
        "    elif x == 0 and num > 0:\n",
        "        answer = str(num)\n",
        "    elif x > 0 and num == 0:\n",
        "        if x > 1:\n",
        "            answer = str(x) + 'x'\n",
        "        else:\n",
        "            answer = 'x'\n",
        "\n",
        "    return answer"
      ]
    }
  ]
}