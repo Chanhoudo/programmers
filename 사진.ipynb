{
  "nbformat": 4,
  "nbformat_minor": 0,
  "metadata": {
    "colab": {
      "provenance": []
    },
    "kernelspec": {
      "name": "python3",
      "display_name": "Python 3"
    },
    "language_info": {
      "name": "python"
    }
  },
  "cells": [
    {
      "cell_type": "code",
      "execution_count": null,
      "metadata": {
        "id": "Ho7bSp2KIVTG"
      },
      "outputs": [],
      "source": [
        "def solution(name, yearning, photo):\n",
        "    answer = []\n",
        "\n",
        "    for pho in range(len(photo)):\n",
        "        answer.append(0)\n",
        "        for lis in range(len(photo[pho])):\n",
        "            for n in range(len(name)):\n",
        "                if name[n] == photo[pho][lis]:\n",
        "                    answer[pho] += yearning[n]\n",
        "\n",
        "\n",
        "\n",
        "    return answer"
      ]
    }
  ]
}