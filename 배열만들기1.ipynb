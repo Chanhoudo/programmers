{
  "nbformat": 4,
  "nbformat_minor": 0,
  "metadata": {
    "colab": {
      "provenance": []
    },
    "kernelspec": {
      "name": "python3",
      "display_name": "Python 3"
    },
    "language_info": {
      "name": "python"
    }
  },
  "cells": [
    {
      "cell_type": "code",
      "execution_count": null,
      "metadata": {
        "id": "C_KyTKw_bzx6"
      },
      "outputs": [],
      "source": [
        "def solution(n, k):\n",
        "    answer = []\n",
        "    s=k\n",
        "    while(s <= n):\n",
        "        answer.append(s)\n",
        "        s += k\n",
        "    return answer"
      ]
    }
  ]
}