{
  "nbformat": 4,
  "nbformat_minor": 0,
  "metadata": {
    "colab": {
      "provenance": []
    },
    "kernelspec": {
      "name": "python3",
      "display_name": "Python 3"
    },
    "language_info": {
      "name": "python"
    }
  },
  "cells": [
    {
      "cell_type": "code",
      "execution_count": null,
      "metadata": {
        "id": "iRtUX4mWu_pR"
      },
      "outputs": [],
      "source": [
        "def solution(video_len, pos, op_start, op_end, commands):\n",
        "    answer = ''\n",
        "    v_m = int(video_len[0:2])\n",
        "    v_s = int(video_len[3:5])\n",
        "    v = int(video_len[0:2] + video_len[3:5])\n",
        "    p_m = int(pos[0:2])\n",
        "    p_s = int(pos[3:5])\n",
        "    p = int(pos[0:2] + pos[3:5])\n",
        "    op_s = int(op_start[0:2] + op_start[3:5])\n",
        "    op_e = int(op_end[0:2] + op_end[3:5])\n",
        "\n",
        "    for command in commands:\n",
        "        if p >= op_s and p < op_e:\n",
        "            p = op_e\n",
        "            p_m = int(str(op_end[0:2]))\n",
        "            p_s = int(str(op_end[3:5]))\n",
        "        if command == \"next\" and p < v:\n",
        "            p_s += 10\n",
        "            p += 10\n",
        "            if p_s >= 60:\n",
        "                p_s %= 60\n",
        "                p_m += 1\n",
        "                p = int(str(p_m) + str(p_s))\n",
        "            if p > v:\n",
        "                p = v\n",
        "                p_m = v_m\n",
        "                p_s = v_s\n",
        "        elif command == \"prev\" and p > 0:\n",
        "            p_s -= 10\n",
        "            p -= 10\n",
        "            if p_s < 0:\n",
        "                p_s += 60\n",
        "                p_m -= 1\n",
        "                p = int(str(p_m) + str(p_s))\n",
        "            if p < 0:\n",
        "                p = 0\n",
        "                p_s = 0\n",
        "                p_m = 0\n",
        "    if p >= op_s and p < op_e:\n",
        "        p_m = int(str(op_end[0:2]))\n",
        "        p_s = int(str(op_end[3:5]))\n",
        "    answer = f\"{p_m:02}:{p_s:02}\"\n",
        "\n",
        "    return answer"
      ]
    }
  ]
}