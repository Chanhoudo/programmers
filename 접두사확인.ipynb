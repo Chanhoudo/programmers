{
  "nbformat": 4,
  "nbformat_minor": 0,
  "metadata": {
    "colab": {
      "provenance": []
    },
    "kernelspec": {
      "name": "python3",
      "display_name": "Python 3"
    },
    "language_info": {
      "name": "python"
    }
  },
  "cells": [
    {
      "cell_type": "code",
      "execution_count": null,
      "metadata": {
        "id": "GGZlcosUdehA"
      },
      "outputs": [],
      "source": [
        "def solution(my_string, is_prefix):\n",
        "    stack = 0\n",
        "    if len(my_string) < len(is_prefix):\n",
        "        return 0\n",
        "    else:\n",
        "        for i in range(len(is_prefix)):\n",
        "            if my_string[i] != is_prefix[i]:\n",
        "                break\n",
        "            stack += 1\n",
        "        if len(is_prefix) == stack:\n",
        "            return 1\n",
        "        else:\n",
        "            return 0"
      ]
    }
  ]
}