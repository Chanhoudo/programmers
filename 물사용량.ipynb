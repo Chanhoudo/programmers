{
  "nbformat": 4,
  "nbformat_minor": 0,
  "metadata": {
    "colab": {
      "provenance": []
    },
    "kernelspec": {
      "name": "python3",
      "display_name": "Python 3"
    },
    "language_info": {
      "name": "python"
    }
  },
  "cells": [
    {
      "cell_type": "code",
      "execution_count": null,
      "metadata": {
        "id": "asHyoIl-H8WO"
      },
      "outputs": [],
      "source": [
        "def solution(storage, usage, change):\n",
        "    total_usage = 0\n",
        "    for i in range(len(change)):\n",
        "        usage = usage + (usage * change[i]/100)\n",
        "        total_usage += usage\n",
        "        if total_usage > storage:\n",
        "            return i\n",
        "\n",
        "    return -1"
      ]
    }
  ]
}