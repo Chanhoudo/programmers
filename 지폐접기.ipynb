{
  "nbformat": 4,
  "nbformat_minor": 0,
  "metadata": {
    "colab": {
      "provenance": []
    },
    "kernelspec": {
      "name": "python3",
      "display_name": "Python 3"
    },
    "language_info": {
      "name": "python"
    }
  },
  "cells": [
    {
      "cell_type": "code",
      "execution_count": null,
      "metadata": {
        "id": "b1EvRu87zOzo"
      },
      "outputs": [],
      "source": [
        "import math\n",
        "def solution(wallet, bill):\n",
        "    answer = 0\n",
        "    maxB = max(bill)\n",
        "    minB = min(bill)\n",
        "    while max(wallet) < maxB or min(wallet) < minB:\n",
        "        maxB = math.floor(maxB / 2)\n",
        "        if maxB < minB:\n",
        "            temp = maxB\n",
        "            maxB = minB\n",
        "            minB = temp\n",
        "        answer += 1\n",
        "\n",
        "    return answer"
      ]
    }
  ]
}