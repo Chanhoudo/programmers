{
  "nbformat": 4,
  "nbformat_minor": 0,
  "metadata": {
    "colab": {
      "provenance": []
    },
    "kernelspec": {
      "name": "python3",
      "display_name": "Python 3"
    },
    "language_info": {
      "name": "python"
    }
  },
  "cells": [
    {
      "cell_type": "code",
      "execution_count": null,
      "metadata": {
        "id": "jZzgEMndYgJh"
      },
      "outputs": [],
      "source": [
        "def solution(num_list, n):\n",
        "    answer = []\n",
        "    for i in range(n-1,len(num_list)):\n",
        "        answer.append(num_list[i])\n",
        "    return answer"
      ]
    }
  ]
}