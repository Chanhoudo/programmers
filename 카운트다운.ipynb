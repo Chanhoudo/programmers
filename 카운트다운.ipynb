{
  "nbformat": 4,
  "nbformat_minor": 0,
  "metadata": {
    "colab": {
      "provenance": []
    },
    "kernelspec": {
      "name": "python3",
      "display_name": "Python 3"
    },
    "language_info": {
      "name": "python"
    }
  },
  "cells": [
    {
      "cell_type": "code",
      "execution_count": null,
      "metadata": {
        "id": "C_KyTKw_bzx6"
      },
      "outputs": [],
      "source": [
        "def solution(start_num, end_num):\n",
        "    answer = []\n",
        "    for i in range(start_num, end_num-1, -1):\n",
        "        answer.append(i)\n",
        "    return answer"
      ]
    }
  ]
}